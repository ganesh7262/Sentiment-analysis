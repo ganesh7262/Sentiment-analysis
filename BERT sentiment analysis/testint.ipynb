{
 "cells": [
  {
   "cell_type": "code",
   "execution_count": 16,
   "metadata": {},
   "outputs": [],
   "source": [
    "from searchtweets import collect_results,gen_rule_payload,ResultStream"
   ]
  },
  {
   "cell_type": "code",
   "execution_count": 17,
   "metadata": {},
   "outputs": [
    {
     "name": "stderr",
     "output_type": "stream",
     "text": [
      "Grabbing bearer token from OAUTH\n"
     ]
    }
   ],
   "source": [
    "from searchtweets import load_credentials\n",
    "auth=load_credentials(r'C:\\Users\\ganes\\OneDrive\\Documents\\GitHub\\Sentment-analysis\\BERT sentiment analysis\\tweet_auth.yaml',env_overwrite=False)"
   ]
  },
  {
   "cell_type": "code",
   "execution_count": 18,
   "metadata": {},
   "outputs": [],
   "source": [
    "rule = gen_rule_payload(\"beyonce\", results_per_call=100)"
   ]
  },
  {
   "cell_type": "code",
   "execution_count": 20,
   "metadata": {},
   "outputs": [
    {
     "name": "stderr",
     "output_type": "stream",
     "text": [
      "HTTP Error code: 405: {\"title\":\"Method Not Allowed\",\"detail\":\"Method Not Allowed\",\"type\":\"about:blank\",\"status\":405}\n",
      "Request payload: {'query': 'beyonce', 'maxResults': 100}\n"
     ]
    },
    {
     "ename": "HTTPError",
     "evalue": "",
     "output_type": "error",
     "traceback": [
      "\u001b[1;31m---------------------------------------------------------------------------\u001b[0m",
      "\u001b[1;31mHTTPError\u001b[0m                                 Traceback (most recent call last)",
      "\u001b[1;32mc:\\Users\\ganes\\OneDrive\\Documents\\GitHub\\Sentment-analysis\\BERT sentiment analysis\\testint.ipynb Cell 5\u001b[0m in \u001b[0;36m<cell line: 1>\u001b[1;34m()\u001b[0m\n\u001b[1;32m----> <a href='vscode-notebook-cell:/c%3A/Users/ganes/OneDrive/Documents/GitHub/Sentment-analysis/BERT%20sentiment%20analysis/testint.ipynb#X13sZmlsZQ%3D%3D?line=0'>1</a>\u001b[0m tweets \u001b[39m=\u001b[39m collect_results(rule,\n\u001b[0;32m      <a href='vscode-notebook-cell:/c%3A/Users/ganes/OneDrive/Documents/GitHub/Sentment-analysis/BERT%20sentiment%20analysis/testint.ipynb#X13sZmlsZQ%3D%3D?line=1'>2</a>\u001b[0m                          max_results\u001b[39m=\u001b[39;49m\u001b[39m100\u001b[39;49m,\n\u001b[0;32m      <a href='vscode-notebook-cell:/c%3A/Users/ganes/OneDrive/Documents/GitHub/Sentment-analysis/BERT%20sentiment%20analysis/testint.ipynb#X13sZmlsZQ%3D%3D?line=2'>3</a>\u001b[0m                          result_stream_args\u001b[39m=\u001b[39;49menterprise_search_args)\n",
      "File \u001b[1;32mc:\\Users\\ganes\\AppData\\Local\\Programs\\Python\\Python310\\lib\\site-packages\\searchtweets\\result_stream.py:322\u001b[0m, in \u001b[0;36mcollect_results\u001b[1;34m(rule, max_results, result_stream_args)\u001b[0m\n\u001b[0;32m    317\u001b[0m     \u001b[39mraise\u001b[39;00m \u001b[39mKeyError\u001b[39;00m\n\u001b[0;32m    319\u001b[0m rs \u001b[39m=\u001b[39m ResultStream(rule_payload\u001b[39m=\u001b[39mrule,\n\u001b[0;32m    320\u001b[0m                   max_results\u001b[39m=\u001b[39mmax_results,\n\u001b[0;32m    321\u001b[0m                   \u001b[39m*\u001b[39m\u001b[39m*\u001b[39mresult_stream_args)\n\u001b[1;32m--> 322\u001b[0m \u001b[39mreturn\u001b[39;00m \u001b[39mlist\u001b[39;49m(rs\u001b[39m.\u001b[39;49mstream())\n",
      "File \u001b[1;32mc:\\Users\\ganes\\AppData\\Local\\Programs\\Python\\Python310\\lib\\site-packages\\searchtweets\\result_stream.py:222\u001b[0m, in \u001b[0;36mResultStream.stream\u001b[1;34m(self)\u001b[0m\n\u001b[0;32m    220\u001b[0m \u001b[39mself\u001b[39m\u001b[39m.\u001b[39minit_session()\n\u001b[0;32m    221\u001b[0m \u001b[39mself\u001b[39m\u001b[39m.\u001b[39mcheck_counts()\n\u001b[1;32m--> 222\u001b[0m \u001b[39mself\u001b[39;49m\u001b[39m.\u001b[39;49mexecute_request()\n\u001b[0;32m    223\u001b[0m \u001b[39mself\u001b[39m\u001b[39m.\u001b[39mstream_started \u001b[39m=\u001b[39m \u001b[39mTrue\u001b[39;00m\n\u001b[0;32m    224\u001b[0m \u001b[39mwhile\u001b[39;00m \u001b[39mTrue\u001b[39;00m:\n",
      "File \u001b[1;32mc:\\Users\\ganes\\AppData\\Local\\Programs\\Python\\Python310\\lib\\site-packages\\searchtweets\\result_stream.py:272\u001b[0m, in \u001b[0;36mResultStream.execute_request\u001b[1;34m(self)\u001b[0m\n\u001b[0;32m    269\u001b[0m     logger\u001b[39m.\u001b[39minfo(\u001b[39m\"\u001b[39m\u001b[39mrefreshing session\u001b[39m\u001b[39m\"\u001b[39m)\n\u001b[0;32m    270\u001b[0m     \u001b[39mself\u001b[39m\u001b[39m.\u001b[39minit_session()\n\u001b[1;32m--> 272\u001b[0m resp \u001b[39m=\u001b[39m request(session\u001b[39m=\u001b[39;49m\u001b[39mself\u001b[39;49m\u001b[39m.\u001b[39;49msession,\n\u001b[0;32m    273\u001b[0m                url\u001b[39m=\u001b[39;49m\u001b[39mself\u001b[39;49m\u001b[39m.\u001b[39;49mendpoint,\n\u001b[0;32m    274\u001b[0m                rule_payload\u001b[39m=\u001b[39;49m\u001b[39mself\u001b[39;49m\u001b[39m.\u001b[39;49mrule_payload)\n\u001b[0;32m    275\u001b[0m \u001b[39mself\u001b[39m\u001b[39m.\u001b[39mn_requests \u001b[39m+\u001b[39m\u001b[39m=\u001b[39m \u001b[39m1\u001b[39m\n\u001b[0;32m    276\u001b[0m ResultStream\u001b[39m.\u001b[39msession_request_counter \u001b[39m+\u001b[39m\u001b[39m=\u001b[39m \u001b[39m1\u001b[39m\n",
      "File \u001b[1;32mc:\\Users\\ganes\\AppData\\Local\\Programs\\Python\\Python310\\lib\\site-packages\\searchtweets\\result_stream.py:110\u001b[0m, in \u001b[0;36mretry.<locals>.retried_func\u001b[1;34m(*args, **kwargs)\u001b[0m\n\u001b[0;32m    107\u001b[0m     sleep_seconds \u001b[39m=\u001b[39m \u001b[39m30\u001b[39m\n\u001b[0;32m    108\u001b[0m \u001b[39melse\u001b[39;00m:\n\u001b[0;32m    109\u001b[0m     \u001b[39m#Other errors are a \"one and done\", no use in retrying error...\u001b[39;00m\n\u001b[1;32m--> 110\u001b[0m     \u001b[39mraise\u001b[39;00m requests\u001b[39m.\u001b[39mexceptions\u001b[39m.\u001b[39mHTTPError\n\u001b[0;32m    112\u001b[0m \u001b[39m# mini exponential backoff here.\u001b[39;00m\n\u001b[0;32m    113\u001b[0m logger\u001b[39m.\u001b[39mwarning(\u001b[39mf\u001b[39m\u001b[39m\"\u001b[39m\u001b[39mWill retry in \u001b[39m\u001b[39m{\u001b[39;00msleep_seconds\u001b[39m}\u001b[39;00m\u001b[39m seconds...\u001b[39m\u001b[39m\"\u001b[39m)\n",
      "\u001b[1;31mHTTPError\u001b[0m: "
     ]
    }
   ],
   "source": [
    "tweets = collect_results(rule,\n",
    "                         max_results=100,\n",
    "                         result_stream_args=auth) # change this if you need to"
   ]
  },
  {
   "cell_type": "code",
   "execution_count": null,
   "metadata": {},
   "outputs": [],
   "source": []
  }
 ],
 "metadata": {
  "kernelspec": {
   "display_name": "Python 3.10.5 64-bit",
   "language": "python",
   "name": "python3"
  },
  "language_info": {
   "codemirror_mode": {
    "name": "ipython",
    "version": 3
   },
   "file_extension": ".py",
   "mimetype": "text/x-python",
   "name": "python",
   "nbconvert_exporter": "python",
   "pygments_lexer": "ipython3",
   "version": "3.10.5"
  },
  "orig_nbformat": 4,
  "vscode": {
   "interpreter": {
    "hash": "cfa8da227f197b2c550201a866dac7bf581188a13abdeff9264a381f9a8fd519"
   }
  }
 },
 "nbformat": 4,
 "nbformat_minor": 2
}
